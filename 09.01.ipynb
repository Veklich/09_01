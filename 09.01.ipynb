{
 "cells": [
  {
   "cell_type": "markdown",
   "id": "8be18726",
   "metadata": {},
   "source": [
    "# Урок 1. Оформление ноутбука и закрепление функций и генераторов"
   ]
  },
  {
   "cell_type": "markdown",
   "id": "83dd2046",
   "metadata": {},
   "source": [
    "## Условие 1"
   ]
  },
  {
   "cell_type": "markdown",
   "id": "425754ee",
   "metadata": {},
   "source": [
    "Оформляйте ноутбук, используя эти советы:\n",
    "\n",
    "Номер задачи - заголовок 2\n",
    "\n",
    "Номер подзадачи - заголовок 3\n",
    "\n",
    "Предоставленные наборы данных оформляйте, как код"
   ]
  },
  {
   "cell_type": "markdown",
   "id": "40b19145",
   "metadata": {},
   "source": [
    "## Условие 2"
   ]
  },
  {
   "cell_type": "markdown",
   "id": "2d8121db",
   "metadata": {},
   "source": [
    "На складе лежат разные фрукты в разном количестве.\n",
    "Нужно написать функцию, которая на вход принимает любое количество названий фруктов и их количество, а возвращает общее количество фруктов на складе"
   ]
  },
  {
   "cell_type": "code",
   "execution_count": 5,
   "id": "c755ef90",
   "metadata": {},
   "outputs": [],
   "source": [
    "def sklad(**kwargs):\n",
    "    for key, value in kwargs.items():\n",
    "        print(f'{key} - {value} шт.')\n",
    "    na_sklade = {key: value for key, value in kwargs.items()}\n",
    "    return sum([i for i in na_sklade.values()])"
   ]
  },
  {
   "cell_type": "code",
   "execution_count": 6,
   "id": "ee5e5338",
   "metadata": {},
   "outputs": [
    {
     "name": "stdout",
     "output_type": "stream",
     "text": [
      "yabloko - 1 шт.\n",
      "grusha - 3 шт.\n"
     ]
    },
    {
     "data": {
      "text/plain": [
       "4"
      ]
     },
     "execution_count": 6,
     "metadata": {},
     "output_type": "execute_result"
    }
   ],
   "source": [
    "sklad(yabloko=1, grusha=3)"
   ]
  },
  {
   "cell_type": "markdown",
   "id": "e2cd8455",
   "metadata": {},
   "source": [
    "## Условие 3"
   ]
  },
  {
   "cell_type": "markdown",
   "id": "84771515",
   "metadata": {},
   "source": [
    "Дан список с затратами на рекламу. Но в данных есть ошибки, некоторые затраты имеют отрицательную величину. Удалите такие значения из списка и посчитайте суммарные затраты\n",
    "[100, 125, -90, 345, 655, -1, 0, 200]\n",
    "Используйте list comprehensions"
   ]
  },
  {
   "cell_type": "code",
   "execution_count": 7,
   "id": "dfbc0b72",
   "metadata": {},
   "outputs": [],
   "source": [
    "cost = [100, 125, -90, 345, 655, -1, 0, 200]"
   ]
  },
  {
   "cell_type": "code",
   "execution_count": 8,
   "id": "9ff4cf60",
   "metadata": {},
   "outputs": [
    {
     "data": {
      "text/plain": [
       "[100, 125, 0, 345, 655, 0, 0, 200]"
      ]
     },
     "execution_count": 8,
     "metadata": {},
     "output_type": "execute_result"
    }
   ],
   "source": [
    "[i if i > 0 else 0 for i in cost]"
   ]
  },
  {
   "cell_type": "markdown",
   "id": "820b1c55",
   "metadata": {},
   "source": [
    "## Условие 4"
   ]
  },
  {
   "cell_type": "markdown",
   "id": "1ad81bc3",
   "metadata": {},
   "source": [
    "Даны два списка.\n",
    "Дата покупки\n",
    "['2021-09-14', '2021-12-15', '2021-09-08', '2021-12-05', '2021-10-09', '2021-09-30', '2021-12-22', '2021-11-29', '2021-12-24', '2021-11-26', '2021-10-27', '2021-12-18', '2021-11-09', '2021-11-23', '2021-09-27', '2021-10-02', '2021-12-27', '2021-09-20', '2021-12-13', '2021-11-01', '2021-11-09', '2021-12-06', '2021-12-08', '2021-10-09', '2021-10-31', '2021-09-30', '2021-11-09', '2021-12-13', '2021-10-26', '2021-12-09']\n",
    "Суммы покупок по датам\n",
    "[1270, 8413, 9028, 3703, 5739, 4095, 295, 4944, 5723, 3701, 4471, 651, 7037, 4274, 6275, 4988, 6930, 2971, 6592, 2004, 2822, 519, 3406, 2732, 5015, 2008, 316, 6333, 5700, 2887]"
   ]
  },
  {
   "cell_type": "code",
   "execution_count": 9,
   "id": "c78d4791",
   "metadata": {},
   "outputs": [],
   "source": [
    "date =  ['2021-09-14', '2021-12-15', '2021-09-08', '2021-12-05', '2021-10-09', '2021-09-30', '2021-12-22', '2021-11-29', '2021-12-24', '2021-11-26', '2021-10-27', '2021-12-18', '2021-11-09', '2021-11-23', '2021-09-27', '2021-10-02', '2021-12-27', '2021-09-20', '2021-12-13', '2021-11-01', '2021-11-09', '2021-12-06', '2021-12-08', '2021-10-09', '2021-10-31', '2021-09-30', '2021-11-09', '2021-12-13', '2021-10-26', '2021-12-09']"
   ]
  },
  {
   "cell_type": "code",
   "execution_count": 10,
   "id": "96e31901",
   "metadata": {},
   "outputs": [],
   "source": [
    "summa = [1270, 8413, 9028, 3703, 5739, 4095, 295, 4944, 5723, 3701, 4471, 651, 7037, 4274, 6275, 4988, 6930, 2971, 6592, 2004, 2822, 519, 3406, 2732, 5015, 2008, 316, 6333, 5700, 2887]"
   ]
  },
  {
   "cell_type": "markdown",
   "id": "66d0de18",
   "metadata": {},
   "source": [
    "### 4.1 Найдите, какая выручка у компании в ноябре"
   ]
  },
  {
   "cell_type": "markdown",
   "id": "65381e11",
   "metadata": {},
   "source": [
    "Используйте list comprehensions"
   ]
  },
  {
   "cell_type": "code",
   "execution_count": 11,
   "id": "720a9691",
   "metadata": {},
   "outputs": [
    {
     "data": {
      "text/plain": [
       "13235"
      ]
     },
     "execution_count": 11,
     "metadata": {},
     "output_type": "execute_result"
    }
   ],
   "source": [
    "revenue = {date[i]: summa[i] for i in range(len(date)) if date[i]>'2021-11-01' and date[i]<'2021-12-01'}\n",
    "sum(i for i in revenue.values())"
   ]
  },
  {
   "cell_type": "markdown",
   "id": "835f77ea",
   "metadata": {},
   "source": [
    "### 4.2 Найдите выручку компании в зависимости от месяца"
   ]
  },
  {
   "cell_type": "markdown",
   "id": "1bd1187e",
   "metadata": {},
   "source": [
    "Для этого напишите функцию, которая на вход принимает список с датами и список с выручкой, а на выходе словарь, где ключи - это месяцы, а значения - это выручка.\n",
    "Используйте аннотирование типов."
   ]
  },
  {
   "cell_type": "code",
   "execution_count": 12,
   "id": "7a979fc4",
   "metadata": {},
   "outputs": [],
   "source": [
    "def revenue_by_month (date: list, summa:list) -> dict:\n",
    "    revenue = {date[i]: summa[i] for i in range(len(date))}\n",
    "    revenue_by_month = {}\n",
    "    for i in range(len(date)):\n",
    "        if date[i].split('-')[1] in revenue_by_month.keys():\n",
    "            revenue_by_month[date[i].split('-')[1]] += summa[i]\n",
    "        else:\n",
    "            revenue_by_month[date[i].split('-')[1]] = summa[i]\n",
    "    return revenue_by_month"
   ]
  },
  {
   "cell_type": "code",
   "execution_count": 13,
   "id": "7a9eb73c",
   "metadata": {},
   "outputs": [
    {
     "data": {
      "text/plain": [
       "{'09': 25647, '12': 45452, '10': 28645, '11': 25098}"
      ]
     },
     "execution_count": 13,
     "metadata": {},
     "output_type": "execute_result"
    }
   ],
   "source": [
    "revenue_by_month(date, summa)"
   ]
  }
 ],
 "metadata": {
  "kernelspec": {
   "display_name": "Python 3 (ipykernel)",
   "language": "python",
   "name": "python3"
  },
  "language_info": {
   "codemirror_mode": {
    "name": "ipython",
    "version": 3
   },
   "file_extension": ".py",
   "mimetype": "text/x-python",
   "name": "python",
   "nbconvert_exporter": "python",
   "pygments_lexer": "ipython3",
   "version": "3.10.8"
  }
 },
 "nbformat": 4,
 "nbformat_minor": 5
}
